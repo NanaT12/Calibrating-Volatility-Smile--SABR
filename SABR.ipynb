{
 "cells": [
  {
   "cell_type": "code",
   "execution_count": 3,
   "metadata": {},
   "outputs": [
    {
     "name": "stdout",
     "output_type": "stream",
     "text": [
      "Collecting pysabr\n",
      "  Using cached pysabr-0.4.1-py3-none-any.whl.metadata (321 bytes)\n",
      "Requirement already satisfied: numpy in /Applications/anaconda3/envs/openbb/lib/python3.11/site-packages (from pysabr) (1.26.3)\n",
      "Requirement already satisfied: scipy in /Applications/anaconda3/envs/openbb/lib/python3.11/site-packages (from pysabr) (1.11.4)\n",
      "Collecting falcon (from pysabr)\n",
      "  Downloading falcon-3.1.3-cp311-cp311-macosx_10_9_universal2.whl.metadata (37 kB)\n",
      "Using cached pysabr-0.4.1-py3-none-any.whl (9.1 kB)\n",
      "Downloading falcon-3.1.3-cp311-cp311-macosx_10_9_universal2.whl (4.0 MB)\n",
      "\u001b[2K   \u001b[90m━━━━━━━━━━━━━━━━━━━━━━━━━━━━━━━━━━━━━━━━\u001b[0m \u001b[32m4.0/4.0 MB\u001b[0m \u001b[31m9.1 MB/s\u001b[0m eta \u001b[36m0:00:00\u001b[0ma \u001b[36m0:00:01\u001b[0m\n",
      "\u001b[?25hInstalling collected packages: falcon, pysabr\n",
      "Successfully installed falcon-3.1.3 pysabr-0.4.1\n"
     ]
    }
   ],
   "source": [
    "!pip install pysabr"
   ]
  },
  {
   "cell_type": "code",
   "execution_count": 10,
   "metadata": {},
   "outputs": [
    {
     "name": "stdout",
     "output_type": "stream",
     "text": [
      "Requirement already satisfied: openbb-yfinance in /Applications/anaconda3/envs/obb/lib/python3.9/site-packages (1.1.5)\n",
      "Requirement already satisfied: openbb-core<2.0.0,>=1.1.6 in /Applications/anaconda3/envs/obb/lib/python3.9/site-packages (from openbb-yfinance) (1.1.6)\n",
      "Requirement already satisfied: yfinance<0.3.0,>=0.2.27 in /Applications/anaconda3/envs/obb/lib/python3.9/site-packages (from openbb-yfinance) (0.2.33)\n",
      "Requirement already satisfied: aiohttp<4.0.0,>=3.9.0 in /Applications/anaconda3/envs/obb/lib/python3.9/site-packages (from openbb-core<2.0.0,>=1.1.6->openbb-yfinance) (3.9.1)\n",
      "Requirement already satisfied: fastapi<0.105.0,>=0.104.1 in /Applications/anaconda3/envs/obb/lib/python3.9/site-packages (from openbb-core<2.0.0,>=1.1.6->openbb-yfinance) (0.104.1)\n",
      "Requirement already satisfied: html5lib<2.0,>=1.1 in /Applications/anaconda3/envs/obb/lib/python3.9/site-packages (from openbb-core<2.0.0,>=1.1.6->openbb-yfinance) (1.1)\n",
      "Requirement already satisfied: importlib-metadata<7.0.0,>=6.8.0 in /Applications/anaconda3/envs/obb/lib/python3.9/site-packages (from openbb-core<2.0.0,>=1.1.6->openbb-yfinance) (6.11.0)\n",
      "Requirement already satisfied: pandas>=1.5.3 in /Applications/anaconda3/envs/obb/lib/python3.9/site-packages (from openbb-core<2.0.0,>=1.1.6->openbb-yfinance) (1.5.3)\n",
      "Requirement already satisfied: posthog<4.0.0,>=3.3.1 in /Applications/anaconda3/envs/obb/lib/python3.9/site-packages (from openbb-core<2.0.0,>=1.1.6->openbb-yfinance) (3.5.0)\n",
      "Requirement already satisfied: pydantic<3.0.0,>=2.5.1 in /Applications/anaconda3/envs/obb/lib/python3.9/site-packages (from openbb-core<2.0.0,>=1.1.6->openbb-yfinance) (2.7.1)\n",
      "Requirement already satisfied: python-dotenv<2.0.0,>=1.0.0 in /Applications/anaconda3/envs/obb/lib/python3.9/site-packages (from openbb-core<2.0.0,>=1.1.6->openbb-yfinance) (1.0.1)\n",
      "Requirement already satisfied: python-jose<4.0.0,>=3.3.0 in /Applications/anaconda3/envs/obb/lib/python3.9/site-packages (from openbb-core<2.0.0,>=1.1.6->openbb-yfinance) (3.3.0)\n",
      "Requirement already satisfied: python-multipart<0.0.7,>=0.0.6 in /Applications/anaconda3/envs/obb/lib/python3.9/site-packages (from openbb-core<2.0.0,>=1.1.6->openbb-yfinance) (0.0.6)\n",
      "Requirement already satisfied: requests<3.0.0,>=2.31.0 in /Applications/anaconda3/envs/obb/lib/python3.9/site-packages (from openbb-core<2.0.0,>=1.1.6->openbb-yfinance) (2.31.0)\n",
      "Requirement already satisfied: ruff<0.2.0,>=0.1.6 in /Applications/anaconda3/envs/obb/lib/python3.9/site-packages (from openbb-core<2.0.0,>=1.1.6->openbb-yfinance) (0.1.15)\n",
      "Requirement already satisfied: uuid7<0.2.0,>=0.1.0 in /Applications/anaconda3/envs/obb/lib/python3.9/site-packages (from openbb-core<2.0.0,>=1.1.6->openbb-yfinance) (0.1.0)\n",
      "Requirement already satisfied: uvicorn<0.25,>=0.24 in /Applications/anaconda3/envs/obb/lib/python3.9/site-packages (from openbb-core<2.0.0,>=1.1.6->openbb-yfinance) (0.24.0.post1)\n",
      "Requirement already satisfied: websockets<13.0,>=12.0 in /Applications/anaconda3/envs/obb/lib/python3.9/site-packages (from openbb-core<2.0.0,>=1.1.6->openbb-yfinance) (12.0)\n",
      "Requirement already satisfied: numpy>=1.16.5 in /Applications/anaconda3/envs/obb/lib/python3.9/site-packages (from yfinance<0.3.0,>=0.2.27->openbb-yfinance) (1.23.4)\n",
      "Requirement already satisfied: multitasking>=0.0.7 in /Applications/anaconda3/envs/obb/lib/python3.9/site-packages (from yfinance<0.3.0,>=0.2.27->openbb-yfinance) (0.0.11)\n",
      "Requirement already satisfied: lxml>=4.9.1 in /Applications/anaconda3/envs/obb/lib/python3.9/site-packages (from yfinance<0.3.0,>=0.2.27->openbb-yfinance) (5.0.1)\n",
      "Requirement already satisfied: appdirs>=1.4.4 in /Applications/anaconda3/envs/obb/lib/python3.9/site-packages (from yfinance<0.3.0,>=0.2.27->openbb-yfinance) (1.4.4)\n",
      "Requirement already satisfied: pytz>=2022.5 in /Applications/anaconda3/envs/obb/lib/python3.9/site-packages (from yfinance<0.3.0,>=0.2.27->openbb-yfinance) (2023.3.post1)\n",
      "Requirement already satisfied: frozendict>=2.3.4 in /Applications/anaconda3/envs/obb/lib/python3.9/site-packages (from yfinance<0.3.0,>=0.2.27->openbb-yfinance) (2.4.0)\n",
      "Requirement already satisfied: peewee>=3.16.2 in /Applications/anaconda3/envs/obb/lib/python3.9/site-packages (from yfinance<0.3.0,>=0.2.27->openbb-yfinance) (3.17.0)\n",
      "Requirement already satisfied: beautifulsoup4>=4.11.1 in /Applications/anaconda3/envs/obb/lib/python3.9/site-packages (from yfinance<0.3.0,>=0.2.27->openbb-yfinance) (4.12.2)\n",
      "Requirement already satisfied: attrs>=17.3.0 in /Applications/anaconda3/envs/obb/lib/python3.9/site-packages (from aiohttp<4.0.0,>=3.9.0->openbb-core<2.0.0,>=1.1.6->openbb-yfinance) (23.2.0)\n",
      "Requirement already satisfied: multidict<7.0,>=4.5 in /Applications/anaconda3/envs/obb/lib/python3.9/site-packages (from aiohttp<4.0.0,>=3.9.0->openbb-core<2.0.0,>=1.1.6->openbb-yfinance) (6.0.4)\n",
      "Requirement already satisfied: yarl<2.0,>=1.0 in /Applications/anaconda3/envs/obb/lib/python3.9/site-packages (from aiohttp<4.0.0,>=3.9.0->openbb-core<2.0.0,>=1.1.6->openbb-yfinance) (1.9.4)\n",
      "Requirement already satisfied: frozenlist>=1.1.1 in /Applications/anaconda3/envs/obb/lib/python3.9/site-packages (from aiohttp<4.0.0,>=3.9.0->openbb-core<2.0.0,>=1.1.6->openbb-yfinance) (1.4.1)\n",
      "Requirement already satisfied: aiosignal>=1.1.2 in /Applications/anaconda3/envs/obb/lib/python3.9/site-packages (from aiohttp<4.0.0,>=3.9.0->openbb-core<2.0.0,>=1.1.6->openbb-yfinance) (1.3.1)\n",
      "Requirement already satisfied: async-timeout<5.0,>=4.0 in /Applications/anaconda3/envs/obb/lib/python3.9/site-packages (from aiohttp<4.0.0,>=3.9.0->openbb-core<2.0.0,>=1.1.6->openbb-yfinance) (4.0.3)\n",
      "Requirement already satisfied: soupsieve>1.2 in /Applications/anaconda3/envs/obb/lib/python3.9/site-packages (from beautifulsoup4>=4.11.1->yfinance<0.3.0,>=0.2.27->openbb-yfinance) (2.5)\n",
      "Requirement already satisfied: anyio<4.0.0,>=3.7.1 in /Applications/anaconda3/envs/obb/lib/python3.9/site-packages (from fastapi<0.105.0,>=0.104.1->openbb-core<2.0.0,>=1.1.6->openbb-yfinance) (3.7.1)\n",
      "Requirement already satisfied: starlette<0.28.0,>=0.27.0 in /Applications/anaconda3/envs/obb/lib/python3.9/site-packages (from fastapi<0.105.0,>=0.104.1->openbb-core<2.0.0,>=1.1.6->openbb-yfinance) (0.27.0)\n",
      "Requirement already satisfied: typing-extensions>=4.8.0 in /Applications/anaconda3/envs/obb/lib/python3.9/site-packages (from fastapi<0.105.0,>=0.104.1->openbb-core<2.0.0,>=1.1.6->openbb-yfinance) (4.9.0)\n",
      "Requirement already satisfied: six>=1.9 in /Applications/anaconda3/envs/obb/lib/python3.9/site-packages (from html5lib<2.0,>=1.1->openbb-core<2.0.0,>=1.1.6->openbb-yfinance) (1.16.0)\n",
      "Requirement already satisfied: webencodings in /Applications/anaconda3/envs/obb/lib/python3.9/site-packages (from html5lib<2.0,>=1.1->openbb-core<2.0.0,>=1.1.6->openbb-yfinance) (0.5.1)\n",
      "Requirement already satisfied: zipp>=0.5 in /Applications/anaconda3/envs/obb/lib/python3.9/site-packages (from importlib-metadata<7.0.0,>=6.8.0->openbb-core<2.0.0,>=1.1.6->openbb-yfinance) (3.17.0)\n",
      "Requirement already satisfied: python-dateutil>=2.8.1 in /Applications/anaconda3/envs/obb/lib/python3.9/site-packages (from pandas>=1.5.3->openbb-core<2.0.0,>=1.1.6->openbb-yfinance) (2.8.2)\n",
      "Requirement already satisfied: monotonic>=1.5 in /Applications/anaconda3/envs/obb/lib/python3.9/site-packages (from posthog<4.0.0,>=3.3.1->openbb-core<2.0.0,>=1.1.6->openbb-yfinance) (1.6)\n",
      "Requirement already satisfied: backoff>=1.10.0 in /Applications/anaconda3/envs/obb/lib/python3.9/site-packages (from posthog<4.0.0,>=3.3.1->openbb-core<2.0.0,>=1.1.6->openbb-yfinance) (2.2.1)\n",
      "Requirement already satisfied: annotated-types>=0.4.0 in /Applications/anaconda3/envs/obb/lib/python3.9/site-packages (from pydantic<3.0.0,>=2.5.1->openbb-core<2.0.0,>=1.1.6->openbb-yfinance) (0.6.0)\n",
      "Requirement already satisfied: pydantic-core==2.18.2 in /Applications/anaconda3/envs/obb/lib/python3.9/site-packages (from pydantic<3.0.0,>=2.5.1->openbb-core<2.0.0,>=1.1.6->openbb-yfinance) (2.18.2)\n",
      "Requirement already satisfied: ecdsa!=0.15 in /Applications/anaconda3/envs/obb/lib/python3.9/site-packages (from python-jose<4.0.0,>=3.3.0->openbb-core<2.0.0,>=1.1.6->openbb-yfinance) (0.18.0)\n",
      "Requirement already satisfied: rsa in /Applications/anaconda3/envs/obb/lib/python3.9/site-packages (from python-jose<4.0.0,>=3.3.0->openbb-core<2.0.0,>=1.1.6->openbb-yfinance) (4.9)\n",
      "Requirement already satisfied: pyasn1 in /Applications/anaconda3/envs/obb/lib/python3.9/site-packages (from python-jose<4.0.0,>=3.3.0->openbb-core<2.0.0,>=1.1.6->openbb-yfinance) (0.5.1)\n",
      "Requirement already satisfied: charset-normalizer<4,>=2 in /Applications/anaconda3/envs/obb/lib/python3.9/site-packages (from requests<3.0.0,>=2.31.0->openbb-core<2.0.0,>=1.1.6->openbb-yfinance) (2.1.1)\n",
      "Requirement already satisfied: idna<4,>=2.5 in /Applications/anaconda3/envs/obb/lib/python3.9/site-packages (from requests<3.0.0,>=2.31.0->openbb-core<2.0.0,>=1.1.6->openbb-yfinance) (3.6)\n",
      "Requirement already satisfied: urllib3<3,>=1.21.1 in /Applications/anaconda3/envs/obb/lib/python3.9/site-packages (from requests<3.0.0,>=2.31.0->openbb-core<2.0.0,>=1.1.6->openbb-yfinance) (1.26.18)\n",
      "Requirement already satisfied: certifi>=2017.4.17 in /Applications/anaconda3/envs/obb/lib/python3.9/site-packages (from requests<3.0.0,>=2.31.0->openbb-core<2.0.0,>=1.1.6->openbb-yfinance) (2023.11.17)\n",
      "Requirement already satisfied: click>=7.0 in /Applications/anaconda3/envs/obb/lib/python3.9/site-packages (from uvicorn<0.25,>=0.24->openbb-core<2.0.0,>=1.1.6->openbb-yfinance) (8.1.7)\n",
      "Requirement already satisfied: h11>=0.8 in /Applications/anaconda3/envs/obb/lib/python3.9/site-packages (from uvicorn<0.25,>=0.24->openbb-core<2.0.0,>=1.1.6->openbb-yfinance) (0.14.0)\n",
      "Requirement already satisfied: sniffio>=1.1 in /Applications/anaconda3/envs/obb/lib/python3.9/site-packages (from anyio<4.0.0,>=3.7.1->fastapi<0.105.0,>=0.104.1->openbb-core<2.0.0,>=1.1.6->openbb-yfinance) (1.3.0)\n",
      "Requirement already satisfied: exceptiongroup in /Applications/anaconda3/envs/obb/lib/python3.9/site-packages (from anyio<4.0.0,>=3.7.1->fastapi<0.105.0,>=0.104.1->openbb-core<2.0.0,>=1.1.6->openbb-yfinance) (1.2.0)\n"
     ]
    }
   ],
   "source": [
    "!pip install openbb-yfinance"
   ]
  },
  {
   "cell_type": "code",
   "execution_count": 4,
   "metadata": {},
   "outputs": [],
   "source": [
    "import pandas as pd\n",
    "import numpy as np\n",
    "import matplotlib.pyplot as plt\n",
    "import pysabr as pysabr\n",
    "from pysabr import Hagan2002LognormalSABR\n",
    "from pysabr import hagan_2002_lognormal_sabr as sabr\n",
    "from pysabr.black import lognormal_call"
   ]
  },
  {
   "cell_type": "code",
   "execution_count": 3,
   "metadata": {},
   "outputs": [],
   "source": [
    "from openbb import obb\n",
    "from decouple import config"
   ]
  },
  {
   "cell_type": "code",
   "execution_count": 8,
   "metadata": {},
   "outputs": [
    {
     "name": "stdout",
     "output_type": "stream",
     "text": [
      "/Users/saintlaurentjefe/atw\n"
     ]
    }
   ],
   "source": [
    "import os\n",
    "print(os.getcwd())"
   ]
  },
  {
   "cell_type": "code",
   "execution_count": 11,
   "metadata": {},
   "outputs": [
    {
     "ename": "UndefinedValueError",
     "evalue": "API_KEY not found. Declare it as envvar or define a default value.",
     "output_type": "error",
     "traceback": [
      "\u001b[0;31m---------------------------------------------------------------------------\u001b[0m",
      "\u001b[0;31mUndefinedValueError\u001b[0m                       Traceback (most recent call last)",
      "Cell \u001b[0;32mIn[11], line 2\u001b[0m\n\u001b[1;32m      1\u001b[0m \u001b[38;5;66;03m# Get keys and password\u001b[39;00m\n\u001b[0;32m----> 2\u001b[0m api_key \u001b[38;5;241m=\u001b[39m \u001b[43mconfig\u001b[49m\u001b[43m(\u001b[49m\u001b[38;5;124;43m\"\u001b[39;49m\u001b[38;5;124;43mAPI_KEY\u001b[39;49m\u001b[38;5;124;43m\"\u001b[39;49m\u001b[43m)\u001b[49m\n",
      "File \u001b[0;32m/Applications/anaconda3/envs/openbb/lib/python3.11/site-packages/decouple.py:248\u001b[0m, in \u001b[0;36mAutoConfig.__call__\u001b[0;34m(self, *args, **kwargs)\u001b[0m\n\u001b[1;32m    245\u001b[0m \u001b[38;5;28;01mif\u001b[39;00m \u001b[38;5;129;01mnot\u001b[39;00m \u001b[38;5;28mself\u001b[39m\u001b[38;5;241m.\u001b[39mconfig:\n\u001b[1;32m    246\u001b[0m     \u001b[38;5;28mself\u001b[39m\u001b[38;5;241m.\u001b[39m_load(\u001b[38;5;28mself\u001b[39m\u001b[38;5;241m.\u001b[39msearch_path \u001b[38;5;129;01mor\u001b[39;00m \u001b[38;5;28mself\u001b[39m\u001b[38;5;241m.\u001b[39m_caller_path())\n\u001b[0;32m--> 248\u001b[0m \u001b[38;5;28;01mreturn\u001b[39;00m \u001b[38;5;28;43mself\u001b[39;49m\u001b[38;5;241;43m.\u001b[39;49m\u001b[43mconfig\u001b[49m\u001b[43m(\u001b[49m\u001b[38;5;241;43m*\u001b[39;49m\u001b[43margs\u001b[49m\u001b[43m,\u001b[49m\u001b[43m \u001b[49m\u001b[38;5;241;43m*\u001b[39;49m\u001b[38;5;241;43m*\u001b[39;49m\u001b[43mkwargs\u001b[49m\u001b[43m)\u001b[49m\n",
      "File \u001b[0;32m/Applications/anaconda3/envs/openbb/lib/python3.11/site-packages/decouple.py:107\u001b[0m, in \u001b[0;36mConfig.__call__\u001b[0;34m(self, *args, **kwargs)\u001b[0m\n\u001b[1;32m    103\u001b[0m \u001b[38;5;28;01mdef\u001b[39;00m \u001b[38;5;21m__call__\u001b[39m(\u001b[38;5;28mself\u001b[39m, \u001b[38;5;241m*\u001b[39margs, \u001b[38;5;241m*\u001b[39m\u001b[38;5;241m*\u001b[39mkwargs):\n\u001b[1;32m    104\u001b[0m \u001b[38;5;250m    \u001b[39m\u001b[38;5;124;03m\"\"\"\u001b[39;00m\n\u001b[1;32m    105\u001b[0m \u001b[38;5;124;03m    Convenient shortcut to get.\u001b[39;00m\n\u001b[1;32m    106\u001b[0m \u001b[38;5;124;03m    \"\"\"\u001b[39;00m\n\u001b[0;32m--> 107\u001b[0m     \u001b[38;5;28;01mreturn\u001b[39;00m \u001b[38;5;28;43mself\u001b[39;49m\u001b[38;5;241;43m.\u001b[39;49m\u001b[43mget\u001b[49m\u001b[43m(\u001b[49m\u001b[38;5;241;43m*\u001b[39;49m\u001b[43margs\u001b[49m\u001b[43m,\u001b[49m\u001b[43m \u001b[49m\u001b[38;5;241;43m*\u001b[39;49m\u001b[38;5;241;43m*\u001b[39;49m\u001b[43mkwargs\u001b[49m\u001b[43m)\u001b[49m\n",
      "File \u001b[0;32m/Applications/anaconda3/envs/openbb/lib/python3.11/site-packages/decouple.py:92\u001b[0m, in \u001b[0;36mConfig.get\u001b[0;34m(self, option, default, cast)\u001b[0m\n\u001b[1;32m     90\u001b[0m \u001b[38;5;28;01melse\u001b[39;00m:\n\u001b[1;32m     91\u001b[0m     \u001b[38;5;28;01mif\u001b[39;00m \u001b[38;5;28misinstance\u001b[39m(default, Undefined):\n\u001b[0;32m---> 92\u001b[0m         \u001b[38;5;28;01mraise\u001b[39;00m UndefinedValueError(\u001b[38;5;124m'\u001b[39m\u001b[38;5;132;01m{}\u001b[39;00m\u001b[38;5;124m not found. Declare it as envvar or define a default value.\u001b[39m\u001b[38;5;124m'\u001b[39m\u001b[38;5;241m.\u001b[39mformat(option))\n\u001b[1;32m     94\u001b[0m     value \u001b[38;5;241m=\u001b[39m default\n\u001b[1;32m     96\u001b[0m \u001b[38;5;28;01mif\u001b[39;00m \u001b[38;5;28misinstance\u001b[39m(cast, Undefined):\n",
      "\u001b[0;31mUndefinedValueError\u001b[0m: API_KEY not found. Declare it as envvar or define a default value."
     ]
    }
   ],
   "source": [
    "# Get keys and password\n",
    "api_key = config(\"API_KEY\")"
   ]
  },
  {
   "cell_type": "code",
   "execution_count": 22,
   "metadata": {},
   "outputs": [
    {
     "ename": "OpenBBError",
     "evalue": "\nType -> ValidationError \n\nDetails -> 1 validations errors in chains\nArg provider ->\nInput should be 'intrinio' [validation_error_type=literal_error, input_type=str, input_value=yfinance]\n    For further information visit https://errors.pydantic.dev/2.7/v/literal_error\n",
     "output_type": "error",
     "traceback": [
      "\u001b[0;31m---------------------------------------------------------------------------\u001b[0m",
      "\u001b[0;31mOpenBBError\u001b[0m                               Traceback (most recent call last)",
      "Cell \u001b[0;32mIn[22], line 3\u001b[0m\n\u001b[1;32m      1\u001b[0m symbol \u001b[38;5;241m=\u001b[39m \u001b[38;5;124m\"\u001b[39m\u001b[38;5;124mSPY\u001b[39m\u001b[38;5;124m\"\u001b[39m\n\u001b[1;32m      2\u001b[0m expiration \u001b[38;5;241m=\u001b[39m \u001b[38;5;124m\"\u001b[39m\u001b[38;5;124m2026-01-16\u001b[39m\u001b[38;5;124m\"\u001b[39m\n\u001b[0;32m----> 3\u001b[0m spy \u001b[38;5;241m=\u001b[39m \u001b[43mobb\u001b[49m\u001b[38;5;241;43m.\u001b[39;49m\u001b[43mderivatives\u001b[49m\u001b[38;5;241;43m.\u001b[39;49m\u001b[43moptions\u001b[49m\u001b[38;5;241;43m.\u001b[39;49m\u001b[43mchains\u001b[49m\u001b[43m(\u001b[49m\u001b[43msymbol\u001b[49m\u001b[43m,\u001b[49m\u001b[43mprovider\u001b[49m\u001b[38;5;241;43m=\u001b[39;49m\u001b[38;5;124;43m'\u001b[39;49m\u001b[38;5;124;43myfinance\u001b[39;49m\u001b[38;5;124;43m'\u001b[39;49m\u001b[43m)\u001b[49m\n",
      "File \u001b[0;32m/Applications/anaconda3/envs/openbb/lib/python3.11/site-packages/openbb_core/app/static/utils/decorators.py:83\u001b[0m, in \u001b[0;36mexception_handler.<locals>.wrapper\u001b[0;34m(*f_args, **f_kwargs)\u001b[0m\n\u001b[1;32m     80\u001b[0m     error_list\u001b[38;5;241m.\u001b[39minsert(\u001b[38;5;241m0\u001b[39m, validation_error)\n\u001b[1;32m     81\u001b[0m     error_str \u001b[38;5;241m=\u001b[39m \u001b[38;5;124m\"\u001b[39m\u001b[38;5;130;01m\\n\u001b[39;00m\u001b[38;5;124m\"\u001b[39m\u001b[38;5;241m.\u001b[39mjoin(error_list)\n\u001b[0;32m---> 83\u001b[0m     \u001b[38;5;28;01mraise\u001b[39;00m OpenBBError(\n\u001b[1;32m     84\u001b[0m         \u001b[38;5;124mf\u001b[39m\u001b[38;5;124m\"\u001b[39m\u001b[38;5;130;01m\\n\u001b[39;00m\u001b[38;5;124mType -> ValidationError \u001b[39m\u001b[38;5;130;01m\\n\u001b[39;00m\u001b[38;5;130;01m\\n\u001b[39;00m\u001b[38;5;124mDetails -> \u001b[39m\u001b[38;5;132;01m{\u001b[39;00merror_str\u001b[38;5;132;01m}\u001b[39;00m\u001b[38;5;124m\"\u001b[39m\n\u001b[1;32m     85\u001b[0m     )\u001b[38;5;241m.\u001b[39mwith_traceback(tb) \u001b[38;5;28;01mfrom\u001b[39;00m \u001b[38;5;28;01mNone\u001b[39;00m\n\u001b[1;32m     87\u001b[0m \u001b[38;5;66;03m# If the error is not a ValidationError, then it is a generic exception\u001b[39;00m\n\u001b[1;32m     88\u001b[0m error_type \u001b[38;5;241m=\u001b[39m \u001b[38;5;28mgetattr\u001b[39m(e, \u001b[38;5;124m\"\u001b[39m\u001b[38;5;124moriginal\u001b[39m\u001b[38;5;124m\"\u001b[39m, e)\u001b[38;5;241m.\u001b[39m\u001b[38;5;18m__class__\u001b[39m\u001b[38;5;241m.\u001b[39m\u001b[38;5;18m__name__\u001b[39m\n",
      "File \u001b[0;32m/Applications/anaconda3/envs/openbb/lib/python3.11/site-packages/pydantic/_internal/_validate_call.py:81\u001b[0m, in \u001b[0;36mValidateCallWrapper.__call__\u001b[0;34m(self, *args, **kwargs)\u001b[0m\n\u001b[1;32m     80\u001b[0m \u001b[38;5;28;01mdef\u001b[39;00m \u001b[38;5;21m__call__\u001b[39m(\u001b[38;5;28mself\u001b[39m, \u001b[38;5;241m*\u001b[39margs: Any, \u001b[38;5;241m*\u001b[39m\u001b[38;5;241m*\u001b[39mkwargs: Any) \u001b[38;5;241m-\u001b[39m\u001b[38;5;241m>\u001b[39m Any:\n\u001b[0;32m---> 81\u001b[0m     res \u001b[38;5;241m=\u001b[39m \u001b[38;5;28mself\u001b[39m\u001b[38;5;241m.\u001b[39m__pydantic_validator__\u001b[38;5;241m.\u001b[39mvalidate_python(pydantic_core\u001b[38;5;241m.\u001b[39mArgsKwargs(args, kwargs))\n\u001b[1;32m     82\u001b[0m     \u001b[38;5;28;01mif\u001b[39;00m \u001b[38;5;28mself\u001b[39m\u001b[38;5;241m.\u001b[39m__return_pydantic_validator__:\n\u001b[1;32m     83\u001b[0m         \u001b[38;5;28;01mreturn\u001b[39;00m \u001b[38;5;28mself\u001b[39m\u001b[38;5;241m.\u001b[39m__return_pydantic_validator__(res)\n",
      "\u001b[0;31mOpenBBError\u001b[0m: \nType -> ValidationError \n\nDetails -> 1 validations errors in chains\nArg provider ->\nInput should be 'intrinio' [validation_error_type=literal_error, input_type=str, input_value=yfinance]\n    For further information visit https://errors.pydantic.dev/2.7/v/literal_error\n"
     ]
    }
   ],
   "source": [
    "symbol = \"SPY\"\n",
    "expiration = \"2026-01-16\"\n",
    "spy = obb.derivatives.options.chains(symbol,provider='yfinance')"
   ]
  },
  {
   "cell_type": "code",
   "execution_count": null,
   "metadata": {},
   "outputs": [],
   "source": []
  },
  {
   "cell_type": "code",
   "execution_count": 17,
   "metadata": {},
   "outputs": [
    {
     "data": {
      "text/html": [
       "<div>\n",
       "<style scoped>\n",
       "    .dataframe tbody tr th:only-of-type {\n",
       "        vertical-align: middle;\n",
       "    }\n",
       "\n",
       "    .dataframe tbody tr th {\n",
       "        vertical-align: top;\n",
       "    }\n",
       "\n",
       "    .dataframe thead th {\n",
       "        text-align: right;\n",
       "    }\n",
       "</style>\n",
       "<table border=\"1\" class=\"dataframe\">\n",
       "  <thead>\n",
       "    <tr style=\"text-align: right;\">\n",
       "      <th></th>\n",
       "      <th>open</th>\n",
       "      <th>high</th>\n",
       "      <th>low</th>\n",
       "      <th>close</th>\n",
       "      <th>volume</th>\n",
       "      <th>split_ratio</th>\n",
       "      <th>dividend</th>\n",
       "      <th>capital_gains</th>\n",
       "    </tr>\n",
       "    <tr>\n",
       "      <th>date</th>\n",
       "      <th></th>\n",
       "      <th></th>\n",
       "      <th></th>\n",
       "      <th></th>\n",
       "      <th></th>\n",
       "      <th></th>\n",
       "      <th></th>\n",
       "      <th></th>\n",
       "    </tr>\n",
       "  </thead>\n",
       "  <tbody>\n",
       "    <tr>\n",
       "      <th>2023-07-24</th>\n",
       "      <td>453.369995</td>\n",
       "      <td>455.040009</td>\n",
       "      <td>452.299988</td>\n",
       "      <td>454.200012</td>\n",
       "      <td>54023400</td>\n",
       "      <td>0.0</td>\n",
       "      <td>0.0</td>\n",
       "      <td>0.0</td>\n",
       "    </tr>\n",
       "    <tr>\n",
       "      <th>2023-07-25</th>\n",
       "      <td>453.920013</td>\n",
       "      <td>456.739990</td>\n",
       "      <td>453.869995</td>\n",
       "      <td>455.440002</td>\n",
       "      <td>55191200</td>\n",
       "      <td>0.0</td>\n",
       "      <td>0.0</td>\n",
       "      <td>0.0</td>\n",
       "    </tr>\n",
       "    <tr>\n",
       "      <th>2023-07-26</th>\n",
       "      <td>454.470001</td>\n",
       "      <td>456.989990</td>\n",
       "      <td>453.380005</td>\n",
       "      <td>455.510010</td>\n",
       "      <td>71052900</td>\n",
       "      <td>0.0</td>\n",
       "      <td>0.0</td>\n",
       "      <td>0.0</td>\n",
       "    </tr>\n",
       "    <tr>\n",
       "      <th>2023-07-27</th>\n",
       "      <td>459.019989</td>\n",
       "      <td>459.440002</td>\n",
       "      <td>451.549988</td>\n",
       "      <td>452.489990</td>\n",
       "      <td>92194400</td>\n",
       "      <td>0.0</td>\n",
       "      <td>0.0</td>\n",
       "      <td>0.0</td>\n",
       "    </tr>\n",
       "    <tr>\n",
       "      <th>2023-07-28</th>\n",
       "      <td>455.880005</td>\n",
       "      <td>457.779999</td>\n",
       "      <td>452.489990</td>\n",
       "      <td>456.920013</td>\n",
       "      <td>80011800</td>\n",
       "      <td>0.0</td>\n",
       "      <td>0.0</td>\n",
       "      <td>0.0</td>\n",
       "    </tr>\n",
       "    <tr>\n",
       "      <th>...</th>\n",
       "      <td>...</td>\n",
       "      <td>...</td>\n",
       "      <td>...</td>\n",
       "      <td>...</td>\n",
       "      <td>...</td>\n",
       "      <td>...</td>\n",
       "      <td>...</td>\n",
       "      <td>...</td>\n",
       "    </tr>\n",
       "    <tr>\n",
       "      <th>2024-07-17</th>\n",
       "      <td>558.799988</td>\n",
       "      <td>560.510010</td>\n",
       "      <td>556.609985</td>\n",
       "      <td>556.940002</td>\n",
       "      <td>57119000</td>\n",
       "      <td>0.0</td>\n",
       "      <td>0.0</td>\n",
       "      <td>0.0</td>\n",
       "    </tr>\n",
       "    <tr>\n",
       "      <th>2024-07-18</th>\n",
       "      <td>558.510010</td>\n",
       "      <td>559.520020</td>\n",
       "      <td>550.429993</td>\n",
       "      <td>552.659973</td>\n",
       "      <td>56270400</td>\n",
       "      <td>0.0</td>\n",
       "      <td>0.0</td>\n",
       "      <td>0.0</td>\n",
       "    </tr>\n",
       "    <tr>\n",
       "      <th>2024-07-19</th>\n",
       "      <td>552.419983</td>\n",
       "      <td>554.080017</td>\n",
       "      <td>547.909973</td>\n",
       "      <td>548.989990</td>\n",
       "      <td>65509100</td>\n",
       "      <td>0.0</td>\n",
       "      <td>0.0</td>\n",
       "      <td>0.0</td>\n",
       "    </tr>\n",
       "    <tr>\n",
       "      <th>2024-07-22</th>\n",
       "      <td>553.000000</td>\n",
       "      <td>555.270020</td>\n",
       "      <td>551.020020</td>\n",
       "      <td>554.650024</td>\n",
       "      <td>43346700</td>\n",
       "      <td>0.0</td>\n",
       "      <td>0.0</td>\n",
       "      <td>0.0</td>\n",
       "    </tr>\n",
       "    <tr>\n",
       "      <th>2024-07-23</th>\n",
       "      <td>554.539978</td>\n",
       "      <td>556.734985</td>\n",
       "      <td>553.275024</td>\n",
       "      <td>553.780029</td>\n",
       "      <td>33823847</td>\n",
       "      <td>0.0</td>\n",
       "      <td>0.0</td>\n",
       "      <td>0.0</td>\n",
       "    </tr>\n",
       "  </tbody>\n",
       "</table>\n",
       "<p>252 rows × 8 columns</p>\n",
       "</div>"
      ],
      "text/plain": [
       "                  open        high         low       close    volume  \\\n",
       "date                                                                   \n",
       "2023-07-24  453.369995  455.040009  452.299988  454.200012  54023400   \n",
       "2023-07-25  453.920013  456.739990  453.869995  455.440002  55191200   \n",
       "2023-07-26  454.470001  456.989990  453.380005  455.510010  71052900   \n",
       "2023-07-27  459.019989  459.440002  451.549988  452.489990  92194400   \n",
       "2023-07-28  455.880005  457.779999  452.489990  456.920013  80011800   \n",
       "...                ...         ...         ...         ...       ...   \n",
       "2024-07-17  558.799988  560.510010  556.609985  556.940002  57119000   \n",
       "2024-07-18  558.510010  559.520020  550.429993  552.659973  56270400   \n",
       "2024-07-19  552.419983  554.080017  547.909973  548.989990  65509100   \n",
       "2024-07-22  553.000000  555.270020  551.020020  554.650024  43346700   \n",
       "2024-07-23  554.539978  556.734985  553.275024  553.780029  33823847   \n",
       "\n",
       "            split_ratio  dividend  capital_gains  \n",
       "date                                              \n",
       "2023-07-24          0.0       0.0            0.0  \n",
       "2023-07-25          0.0       0.0            0.0  \n",
       "2023-07-26          0.0       0.0            0.0  \n",
       "2023-07-27          0.0       0.0            0.0  \n",
       "2023-07-28          0.0       0.0            0.0  \n",
       "...                 ...       ...            ...  \n",
       "2024-07-17          0.0       0.0            0.0  \n",
       "2024-07-18          0.0       0.0            0.0  \n",
       "2024-07-19          0.0       0.0            0.0  \n",
       "2024-07-22          0.0       0.0            0.0  \n",
       "2024-07-23          0.0       0.0            0.0  \n",
       "\n",
       "[252 rows x 8 columns]"
      ]
     },
     "execution_count": 17,
     "metadata": {},
     "output_type": "execute_result"
    }
   ],
   "source": [
    "spy"
   ]
  },
  {
   "cell_type": "code",
   "execution_count": 32,
   "metadata": {},
   "outputs": [
    {
     "ename": "OpenBBError",
     "evalue": "\nType -> OpenBBError\n\nDetail -> Missing credential 'intrinio_api_key'. Check https://intrinio.com/ to get it.",
     "output_type": "error",
     "traceback": [
      "\u001b[0;31m---------------------------------------------------------------------------\u001b[0m",
      "\u001b[0;31mOpenBBError\u001b[0m                               Traceback (most recent call last)",
      "Cell \u001b[0;32mIn[32], line 4\u001b[0m\n\u001b[1;32m      2\u001b[0m symbol \u001b[38;5;241m=\u001b[39m \u001b[38;5;124m\"\u001b[39m\u001b[38;5;124mCRM\u001b[39m\u001b[38;5;124m\"\u001b[39m\n\u001b[1;32m      3\u001b[0m provider\u001b[38;5;241m=\u001b[39m\u001b[38;5;124m'\u001b[39m\u001b[38;5;124mintrino\u001b[39m\u001b[38;5;124m'\u001b[39m\n\u001b[0;32m----> 4\u001b[0m quote \u001b[38;5;241m=\u001b[39m \u001b[43mobb\u001b[49m\u001b[38;5;241;43m.\u001b[39;49m\u001b[43mequity\u001b[49m\u001b[38;5;241;43m.\u001b[39;49m\u001b[43mprice\u001b[49m\u001b[38;5;241;43m.\u001b[39;49m\u001b[43mquote\u001b[49m\u001b[43m(\u001b[49m\u001b[43msymbol\u001b[49m\u001b[43m,\u001b[49m\u001b[43m \u001b[49m\u001b[43mprovider\u001b[49m\u001b[38;5;241;43m=\u001b[39;49m\u001b[38;5;124;43m\"\u001b[39;49m\u001b[38;5;124;43mintrinio\u001b[39;49m\u001b[38;5;124;43m\"\u001b[39;49m\u001b[43m)\u001b[49m\n",
      "File \u001b[0;32m/Applications/anaconda3/envs/openbb/lib/python3.11/site-packages/openbb_core/app/static/utils/decorators.py:89\u001b[0m, in \u001b[0;36mexception_handler.<locals>.wrapper\u001b[0;34m(*f_args, **f_kwargs)\u001b[0m\n\u001b[1;32m     87\u001b[0m \u001b[38;5;66;03m# If the error is not a ValidationError, then it is a generic exception\u001b[39;00m\n\u001b[1;32m     88\u001b[0m error_type \u001b[38;5;241m=\u001b[39m \u001b[38;5;28mgetattr\u001b[39m(e, \u001b[38;5;124m\"\u001b[39m\u001b[38;5;124moriginal\u001b[39m\u001b[38;5;124m\"\u001b[39m, e)\u001b[38;5;241m.\u001b[39m\u001b[38;5;18m__class__\u001b[39m\u001b[38;5;241m.\u001b[39m\u001b[38;5;18m__name__\u001b[39m\n\u001b[0;32m---> 89\u001b[0m \u001b[38;5;28;01mraise\u001b[39;00m OpenBBError(\n\u001b[1;32m     90\u001b[0m     \u001b[38;5;124mf\u001b[39m\u001b[38;5;124m\"\u001b[39m\u001b[38;5;130;01m\\n\u001b[39;00m\u001b[38;5;124mType -> \u001b[39m\u001b[38;5;132;01m{\u001b[39;00merror_type\u001b[38;5;132;01m}\u001b[39;00m\u001b[38;5;130;01m\\n\u001b[39;00m\u001b[38;5;130;01m\\n\u001b[39;00m\u001b[38;5;124mDetail -> \u001b[39m\u001b[38;5;132;01m{\u001b[39;00m\u001b[38;5;28mstr\u001b[39m(e)\u001b[38;5;132;01m}\u001b[39;00m\u001b[38;5;124m\"\u001b[39m\n\u001b[1;32m     91\u001b[0m )\u001b[38;5;241m.\u001b[39mwith_traceback(tb) \u001b[38;5;28;01mfrom\u001b[39;00m \u001b[38;5;28;01mNone\u001b[39;00m\n",
      "File \u001b[0;32m/Applications/anaconda3/envs/openbb/lib/python3.11/site-packages/openbb_core/app/command_runner.py:384\u001b[0m, in \u001b[0;36mStaticCommandRunner._execute_func\u001b[0;34m(cls, route, args, execution_context, func, kwargs)\u001b[0m\n\u001b[1;32m    381\u001b[0m         \u001b[38;5;28mcls\u001b[39m\u001b[38;5;241m.\u001b[39m_chart(obbject, \u001b[38;5;241m*\u001b[39m\u001b[38;5;241m*\u001b[39mkwargs)\n\u001b[1;32m    383\u001b[0m \u001b[38;5;28;01mexcept\u001b[39;00m \u001b[38;5;167;01mException\u001b[39;00m \u001b[38;5;28;01mas\u001b[39;00m e:\n\u001b[0;32m--> 384\u001b[0m     \u001b[38;5;28;01mraise\u001b[39;00m OpenBBError(e) \u001b[38;5;28;01mfrom\u001b[39;00m \u001b[38;5;21;01me\u001b[39;00m\n\u001b[1;32m    385\u001b[0m \u001b[38;5;28;01mfinally\u001b[39;00m:\n\u001b[1;32m    386\u001b[0m     ls \u001b[38;5;241m=\u001b[39m LoggingService(system_settings, user_settings)\n",
      "\u001b[0;31mOpenBBError\u001b[0m: \nType -> OpenBBError\n\nDetail -> Missing credential 'intrinio_api_key'. Check https://intrinio.com/ to get it."
     ]
    }
   ],
   "source": [
    "# Get the last price of the underlying stock.\n",
    "symbol = \"CRM\"\n",
    "provider='intrino'\n",
    "quote = obb.equity.price.quote(symbol, provider=\"intrinio\")\n"
   ]
  },
  {
   "cell_type": "code",
   "execution_count": 30,
   "metadata": {},
   "outputs": [
    {
     "ename": "OpenBBError",
     "evalue": "\nType -> ValidationError \n\nDetails -> 1 validations errors in chains\nArg provider ->\nInput should be 'intrinio' [validation_error_type=literal_error, input_type=str, input_value=yfinance]\n    For further information visit https://errors.pydantic.dev/2.7/v/literal_error\n",
     "output_type": "error",
     "traceback": [
      "\u001b[0;31m---------------------------------------------------------------------------\u001b[0m",
      "\u001b[0;31mOpenBBError\u001b[0m                               Traceback (most recent call last)",
      "Cell \u001b[0;32mIn[30], line 1\u001b[0m\n\u001b[0;32m----> 1\u001b[0m options \u001b[38;5;241m=\u001b[39m \u001b[43mobb\u001b[49m\u001b[38;5;241;43m.\u001b[39;49m\u001b[43mderivatives\u001b[49m\u001b[38;5;241;43m.\u001b[39;49m\u001b[43moptions\u001b[49m\u001b[38;5;241;43m.\u001b[39;49m\u001b[43mchains\u001b[49m\u001b[43m(\u001b[49m\u001b[43msymbol\u001b[49m\u001b[43m,\u001b[49m\u001b[43m \u001b[49m\u001b[43mprovider\u001b[49m\u001b[38;5;241;43m=\u001b[39;49m\u001b[43mprovider\u001b[49m\u001b[43m)\u001b[49m\n",
      "File \u001b[0;32m/Applications/anaconda3/envs/openbb/lib/python3.11/site-packages/openbb_core/app/static/utils/decorators.py:83\u001b[0m, in \u001b[0;36mexception_handler.<locals>.wrapper\u001b[0;34m(*f_args, **f_kwargs)\u001b[0m\n\u001b[1;32m     80\u001b[0m     error_list\u001b[38;5;241m.\u001b[39minsert(\u001b[38;5;241m0\u001b[39m, validation_error)\n\u001b[1;32m     81\u001b[0m     error_str \u001b[38;5;241m=\u001b[39m \u001b[38;5;124m\"\u001b[39m\u001b[38;5;130;01m\\n\u001b[39;00m\u001b[38;5;124m\"\u001b[39m\u001b[38;5;241m.\u001b[39mjoin(error_list)\n\u001b[0;32m---> 83\u001b[0m     \u001b[38;5;28;01mraise\u001b[39;00m OpenBBError(\n\u001b[1;32m     84\u001b[0m         \u001b[38;5;124mf\u001b[39m\u001b[38;5;124m\"\u001b[39m\u001b[38;5;130;01m\\n\u001b[39;00m\u001b[38;5;124mType -> ValidationError \u001b[39m\u001b[38;5;130;01m\\n\u001b[39;00m\u001b[38;5;130;01m\\n\u001b[39;00m\u001b[38;5;124mDetails -> \u001b[39m\u001b[38;5;132;01m{\u001b[39;00merror_str\u001b[38;5;132;01m}\u001b[39;00m\u001b[38;5;124m\"\u001b[39m\n\u001b[1;32m     85\u001b[0m     )\u001b[38;5;241m.\u001b[39mwith_traceback(tb) \u001b[38;5;28;01mfrom\u001b[39;00m \u001b[38;5;28;01mNone\u001b[39;00m\n\u001b[1;32m     87\u001b[0m \u001b[38;5;66;03m# If the error is not a ValidationError, then it is a generic exception\u001b[39;00m\n\u001b[1;32m     88\u001b[0m error_type \u001b[38;5;241m=\u001b[39m \u001b[38;5;28mgetattr\u001b[39m(e, \u001b[38;5;124m\"\u001b[39m\u001b[38;5;124moriginal\u001b[39m\u001b[38;5;124m\"\u001b[39m, e)\u001b[38;5;241m.\u001b[39m\u001b[38;5;18m__class__\u001b[39m\u001b[38;5;241m.\u001b[39m\u001b[38;5;18m__name__\u001b[39m\n",
      "File \u001b[0;32m/Applications/anaconda3/envs/openbb/lib/python3.11/site-packages/pydantic/_internal/_validate_call.py:81\u001b[0m, in \u001b[0;36mValidateCallWrapper.__call__\u001b[0;34m(self, *args, **kwargs)\u001b[0m\n\u001b[1;32m     80\u001b[0m \u001b[38;5;28;01mdef\u001b[39;00m \u001b[38;5;21m__call__\u001b[39m(\u001b[38;5;28mself\u001b[39m, \u001b[38;5;241m*\u001b[39margs: Any, \u001b[38;5;241m*\u001b[39m\u001b[38;5;241m*\u001b[39mkwargs: Any) \u001b[38;5;241m-\u001b[39m\u001b[38;5;241m>\u001b[39m Any:\n\u001b[0;32m---> 81\u001b[0m     res \u001b[38;5;241m=\u001b[39m \u001b[38;5;28mself\u001b[39m\u001b[38;5;241m.\u001b[39m__pydantic_validator__\u001b[38;5;241m.\u001b[39mvalidate_python(pydantic_core\u001b[38;5;241m.\u001b[39mArgsKwargs(args, kwargs))\n\u001b[1;32m     82\u001b[0m     \u001b[38;5;28;01mif\u001b[39;00m \u001b[38;5;28mself\u001b[39m\u001b[38;5;241m.\u001b[39m__return_pydantic_validator__:\n\u001b[1;32m     83\u001b[0m         \u001b[38;5;28;01mreturn\u001b[39;00m \u001b[38;5;28mself\u001b[39m\u001b[38;5;241m.\u001b[39m__return_pydantic_validator__(res)\n",
      "\u001b[0;31mOpenBBError\u001b[0m: \nType -> ValidationError \n\nDetails -> 1 validations errors in chains\nArg provider ->\nInput should be 'intrinio' [validation_error_type=literal_error, input_type=str, input_value=yfinance]\n    For further information visit https://errors.pydantic.dev/2.7/v/literal_error\n"
     ]
    }
   ],
   "source": [
    "options = obb.derivatives.options.chains(symbol, provider=provider)\n"
   ]
  }
 ],
 "metadata": {
  "kernelspec": {
   "display_name": "openbb",
   "language": "python",
   "name": "python3"
  },
  "language_info": {
   "codemirror_mode": {
    "name": "ipython",
    "version": 3
   },
   "file_extension": ".py",
   "mimetype": "text/x-python",
   "name": "python",
   "nbconvert_exporter": "python",
   "pygments_lexer": "ipython3",
   "version": "3.11.7"
  }
 },
 "nbformat": 4,
 "nbformat_minor": 2
}
